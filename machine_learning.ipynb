{
  "nbformat": 4,
  "nbformat_minor": 0,
  "metadata": {
    "colab": {
      "provenance": [],
      "authorship_tag": "ABX9TyPp4BjW6aonFAG5A7HVN2EB",
      "include_colab_link": true
    },
    "kernelspec": {
      "name": "python3",
      "display_name": "Python 3"
    },
    "language_info": {
      "name": "python"
    }
  },
  "cells": [
    {
      "cell_type": "markdown",
      "metadata": {
        "id": "view-in-github",
        "colab_type": "text"
      },
      "source": [
        "<a href=\"https://colab.research.google.com/github/yotam-biu/tutorial9/blob/main/machine_learning.ipynb\" target=\"_parent\"><img src=\"https://colab.research.google.com/assets/colab-badge.svg\" alt=\"Open In Colab\"/></a>"
      ]
    },
    {
      "cell_type": "code",
      "execution_count": null,
      "metadata": {
        "id": "UoYQV1UbSAuF",
        "colab": {
          "base_uri": "https://localhost:8080/"
        },
        "outputId": "cda9470f-6d9d-4a19-d196-02644e80530d"
      },
      "outputs": [
        {
          "output_type": "stream",
          "name": "stdout",
          "text": [
            "The autoreload extension is already loaded. To reload it, use:\n",
            "  %reload_ext autoreload\n",
            "--2025-01-03 06:17:35--  https://raw.githubusercontent.com/yotam-biu/tutorial9/main/penguins.csv\n",
            "Resolving raw.githubusercontent.com (raw.githubusercontent.com)... 185.199.110.133, 185.199.108.133, 185.199.109.133, ...\n",
            "Connecting to raw.githubusercontent.com (raw.githubusercontent.com)|185.199.110.133|:443... connected.\n",
            "HTTP request sent, awaiting response... 200 OK\n",
            "Length: 12038 (12K) [text/plain]\n",
            "Saving to: ‘/content/penguins.csv’\n",
            "\n",
            "/content/penguins.c 100%[===================>]  11.76K  --.-KB/s    in 0.001s  \n",
            "\n",
            "2025-01-03 06:17:36 (8.11 MB/s) - ‘/content/penguins.csv’ saved [12038/12038]\n",
            "\n"
          ]
        }
      ],
      "source": [
        "%load_ext autoreload\n",
        "%autoreload 2\n",
        "\n",
        "!wget https://raw.githubusercontent.com/yotam-biu/tutorial9/main/penguins.csv -O /content/penguins.csv"
      ]
    },
    {
      "cell_type": "markdown",
      "source": [
        "\n",
        "\n",
        "## 1. **Load the dataset:**  \n",
        "\n",
        "   After running the first cell of this notebook, the file `penguins.csv` will appear in the `Files` folder.\n",
        "   You need to loaded the file as a DataFrame.  \n",
        "\n",
        "\n"
      ],
      "metadata": {
        "id": "hWY_BLnnWuEH"
      }
    },
    {
      "cell_type": "code",
      "source": [],
      "metadata": {
        "id": "ZV_PaRHH7xQk"
      },
      "execution_count": null,
      "outputs": []
    },
    {
      "cell_type": "markdown",
      "source": [
        "## 2. **Select features:**  \n",
        "\n",
        "   - Choose **two features** as inputs for the model.  \n",
        "   - Choose the feature `sex` as the output (target) of the model.  \n",
        "\n",
        "  #### Advice:  \n",
        "  - You can consider creating pair plots or using other EDA methods we learned in the last lecture to explore the relationships between features and determine which ones are most relevant.  \n"
      ],
      "metadata": {
        "id": "TEHB7g0tdk1Y"
      }
    },
    {
      "cell_type": "code",
      "source": [],
      "metadata": {
        "id": "UA7GX4gMdxGf"
      },
      "execution_count": null,
      "outputs": []
    },
    {
      "cell_type": "markdown",
      "source": [
        "## 3. **Scale the data:**\n",
        "\n",
        "   Apply the `MinMaxScaler` to scale the two input columns to a range between 0 and 1.  \n"
      ],
      "metadata": {
        "id": "S0WSZq99WyvB"
      }
    },
    {
      "cell_type": "code",
      "source": [],
      "metadata": {
        "id": "HGdRn2P6WeuC"
      },
      "execution_count": null,
      "outputs": []
    },
    {
      "cell_type": "markdown",
      "source": [
        "## 4. **Split the data:**\n",
        "\n",
        "   Divide the dataset into a training set and a validation set.\n",
        "\n",
        "\n",
        "\n"
      ],
      "metadata": {
        "id": "O3VowsT1XVkY"
      }
    },
    {
      "cell_type": "code",
      "source": [],
      "metadata": {
        "id": "2ycT-D2FYVWf"
      },
      "execution_count": null,
      "outputs": []
    },
    {
      "cell_type": "markdown",
      "source": [
        "## 5. **Choose a model:**  \n",
        "\n",
        "   Select a model to train on the data.  \n",
        "\n"
      ],
      "metadata": {
        "id": "HYaq4tmqYV6C"
      }
    },
    {
      "cell_type": "code",
      "source": [],
      "metadata": {
        "id": "7s6_PY0T1XVO"
      },
      "execution_count": null,
      "outputs": []
    },
    {
      "cell_type": "markdown",
      "source": [
        "# 6. **Test the accuracy:**  \n",
        "\n",
        "   Evaluate the model's accuracy on the test set. Ensure that the accuracy is at least **0.85**.  \n"
      ],
      "metadata": {
        "id": "wz0m7c_MYpei"
      }
    },
    {
      "cell_type": "code",
      "source": [],
      "metadata": {
        "id": "1fN3T8xGYu1U",
        "colab": {
          "base_uri": "https://localhost:8080/"
        },
        "outputId": "2866bcc7-ef07-43d4-be9b-148c70b0ba13"
      },
      "execution_count": null,
      "outputs": [
        {
          "output_type": "stream",
          "name": "stdout",
          "text": [
            "Accuracy: 0.8679245283018868\n"
          ]
        }
      ]
    },
    {
      "cell_type": "markdown",
      "source": [
        "## 7. **Save and upload the model:**  \n",
        "\n",
        "   After you are happy with your results, save the model with the `.joblib` extension and upload it to your GitHub repository main folder.\n",
        "   \n",
        "   Additionally, update the `config.yaml` file with the list of selected features and the model's joblib file name.  \n",
        "\n",
        "\n",
        "example:  \n",
        "```yaml\n",
        "selected_features: [\"A\", \"B\"]  \n",
        "path: \"my_model.joblib\"  \n",
        "```"
      ],
      "metadata": {
        "id": "MSsFRlk2cNyH"
      }
    },
    {
      "cell_type": "code",
      "source": [
        "import joblib\n",
        "\n",
        "joblib.dump(model, 'my_model.joblib')"
      ],
      "metadata": {
        "id": "7X4gb6vGgyoZ",
        "colab": {
          "base_uri": "https://localhost:8080/"
        },
        "outputId": "a046df25-a19d-4974-87b2-0fbb636fda74"
      },
      "execution_count": null,
      "outputs": [
        {
          "output_type": "execute_result",
          "data": {
            "text/plain": [
              "['my_model.joblib']"
            ]
          },
          "metadata": {},
          "execution_count": 58
        }
      ]
    },
    {
      "cell_type": "code",
      "source": [
        "# model = joblib.load('my_model.joblib')"
      ],
      "metadata": {
        "id": "3EAJA4Y-7-0i"
      },
      "execution_count": null,
      "outputs": []
    },
    {
      "cell_type": "markdown",
      "source": [
        "## 8. **Advanced Assignment**  \n",
        "   After completing the previous assignment and receiving a green \"✔\" in the  GitHub repository, you may want to improve your model by:  \n",
        "   - Adding more than two features.  \n",
        "   - Trying a different model.  \n",
        "   - Adjusting the model's parameters.  \n",
        "   - Using categorical features as input (apply `OneHotEncoder` for encoding).  \n",
        "   - Using a numerical value as the output instead of a categorical one.  \n"
      ],
      "metadata": {
        "id": "DpXYnrJp44LZ"
      }
    }
  ]
}